{
 "cells": [
  {
   "cell_type": "code",
   "execution_count": 27,
   "metadata": {},
   "outputs": [
    {
     "name": "stdout",
     "output_type": "stream",
     "text": [
      "['a', 'b', 'c']\n"
     ]
    }
   ],
   "source": [
    "##Abdullah Mahmud,Exercise 3 Python\n",
    "##Basic: 1\n",
    "##Write a program (function!) that takes a list and returns a new list that contains all the\n",
    "##elements of the first list minus all the duplicates.\n",
    "list1=([\"a\", \"b\", \"a\", \"c\", \"c\"])\n",
    "def newListWithoutDuplicate(x): \n",
    "  return list(dict.fromkeys(x))\n",
    "newlist = newListWithoutDuplicate(list1)\n",
    "print(newlist) "
   ]
  },
  {
   "cell_type": "code",
   "execution_count": 28,
   "metadata": {},
   "outputs": [
    {
     "data": {
      "text/plain": [
       "True"
      ]
     },
     "execution_count": 28,
     "metadata": {},
     "output_type": "execute_result"
    }
   ],
   "source": [
    "##Basic: 2\n",
    "##Write a function that takes an ordered list of numbers (a list where the elements are in\n",
    "##order from smallest to largest) and another number. The function decides whether or not\n",
    "##the given number is inside the list and returns (then prints) an appropriate boolean.\n",
    "\n",
    "list1 = ([1, 5, 9,15])\n",
    "val=5\n",
    "def check(list1, val): \n",
    "      \n",
    "    # traverse in the list \n",
    "    for x in list1: \n",
    "  \n",
    "        # compare with all the values \n",
    "        # with val \n",
    "        if val== x: \n",
    "            return True \n",
    "    return False\n",
    "\n",
    "check(list1, val)"
   ]
  },
  {
   "cell_type": "code",
   "execution_count": 29,
   "metadata": {},
   "outputs": [
    {
     "name": "stdout",
     "output_type": "stream",
     "text": [
      "Original list  [1, 4, 9, 16, 25, 36, 49, 64, 81, 100]\n",
      "Only even numbers:  [4, 16, 36, 64, 100]\n",
      "Only Odd numbers:  [1, 9, 25, 49, 81]\n"
     ]
    }
   ],
   "source": [
    "##Basic: 3. \n",
    "##Let’s say I give you a list saved in a variable: a = [1, 4, 9, 16, 25, 36, 49, 64, 81, 100].\n",
    "##Write one line of Python that takes this list a and makes a new list that has only the even\n",
    "##elements of this list in it.\n",
    "a = [1, 4, 9, 16, 25, 36, 49, 64, 81, 100]\n",
    "print (\"Original list \",a)\n",
    "## Remove odd\n",
    "b=list(filter(lambda x: x%2==0, a))\n",
    "print (\"Only even numbers: \",b)\n",
    "## Remove even\n",
    "c = list(filter(lambda x: x%2!=0, a))\n",
    "print (\"Only Odd numbers: \",c)"
   ]
  },
  {
   "cell_type": "code",
   "execution_count": 30,
   "metadata": {},
   "outputs": [
    {
     "name": "stdout",
     "output_type": "stream",
     "text": [
      "Enter an integer from 1 to 99: 89\n",
      "guess is low\n",
      "Enter an integer from 1 to 99: 99\n",
      "guess is high\n",
      "Enter an integer from 1 to 99: 100\n",
      "guess is high\n",
      "Enter an integer from 1 to 99: 95\n",
      "guess is high\n",
      "Enter an integer from 1 to 99: 90\n",
      "guess is low\n",
      "Enter an integer from 1 to 99: 95\n",
      "guess is high\n",
      "Enter an integer from 1 to 99: 94\n",
      "guess is high\n",
      "Enter an integer from 1 to 99: 93\n",
      "guess is high\n",
      "Enter an integer from 1 to 99: 92\n",
      "you guessed it!\n"
     ]
    }
   ],
   "source": [
    "##Advanced 1.\n",
    "##The function picks a number between 0 and 200. Then you should input different values\n",
    "##until you guess the hidden number correctly. The function would return “way upper”,\n",
    "##“upper”, “lower”, “way lower”, “close”, ”bigo”. It’s your choice to pick the ranges you want\n",
    "##to use for responses. The success measure is how intuitive the communication is\n",
    "##between the user and the function.\n",
    "\n",
    "import random\n",
    "n = random.randint(1, 99)\n",
    "guess = int(input(\"Enter an integer from 1 to 99: \"))\n",
    "while n != \"guess\":\n",
    "    if guess < n:\n",
    "        print (\"guess is low\")\n",
    "        guess = int(input(\"Enter an integer from 1 to 99: \"))\n",
    "    elif guess > n:\n",
    "        print (\"guess is high\")\n",
    "        guess = int(input(\"Enter an integer from 1 to 99: \"))\n",
    "    else:\n",
    "        print (\"you guessed it!\")\n",
    "        break"
   ]
  },
  {
   "cell_type": "code",
   "execution_count": 16,
   "metadata": {},
   "outputs": [
    {
     "name": "stdout",
     "output_type": "stream",
     "text": [
      "Human Choose a number between 0 and 100 67\n",
      "Good\n",
      "92 lower.\n",
      "18 higher.\n",
      "72 lower.\n",
      "56 higher.\n",
      "1 higher.\n",
      "96 lower.\n",
      "21 higher.\n",
      "38 higher.\n",
      "95 lower.\n",
      "38 higher.\n",
      "14 higher.\n",
      "39 higher.\n",
      "64 higher.\n",
      "29 higher.\n",
      "9 higher.\n",
      "83 lower.\n",
      "49 higher.\n",
      "65 higher.\n",
      "95 lower.\n",
      "97 lower.\n",
      "65 higher.\n",
      "64 higher.\n",
      "42 higher.\n",
      "52 higher.\n",
      "94 lower.\n",
      "81 lower.\n",
      "55 higher.\n",
      "3 higher.\n",
      "Your number is 67\n"
     ]
    }
   ],
   "source": [
    "##Advanced 2. \n",
    "#Now do the reverse and you guide the program to get close to (and eventually guess)\n",
    "#your number in mind.\n",
    "import random\n",
    "\n",
    "     #User chooses the number\n",
    "the_number = int(input(\"Human Choose a number between 0 and 100 \"))\n",
    "tries = 1\n",
    "computer = random.randint(0,100)\n",
    "     # User choose again loop\n",
    "while the_number > 100:\n",
    "    the_number = int(input(\"Type Number between 1 and 100 \"))\n",
    "if the_number <= 100:\n",
    "    print(\"Good\")\n",
    "\n",
    "     # Guessing Loop\n",
    "while computer != the_number:\n",
    "    if computer > the_number:\n",
    "        print(computer, \"lower.\")\n",
    "    else:\n",
    "        print(computer, \"higher.\")\n",
    "    computer = int(random.randint(0,100))\n",
    "    tries += 1\n",
    "print (\"Your number is\",computer)"
   ]
  },
  {
   "cell_type": "code",
   "execution_count": 18,
   "metadata": {},
   "outputs": [
    {
     "name": "stdout",
     "output_type": "stream",
     "text": [
      "Human Choose a number between 0 and 100 69\n",
      "Good\n",
      "19 higher.\n",
      "9 higher.\n",
      "68 higher.\n",
      "93 lower.\n",
      "50 higher.\n",
      "4 higher.\n",
      "55 higher.\n",
      "93 lower.\n",
      "43 higher.\n",
      "48 higher.\n",
      "83 lower.\n",
      "23 higher.\n",
      "22 higher.\n",
      "36 higher.\n",
      "61 higher.\n",
      "44 higher.\n",
      "0 higher.\n",
      "13 higher.\n",
      "53 higher.\n",
      "96 lower.\n",
      "91 lower.\n",
      "15 higher.\n",
      "43 higher.\n",
      "79 lower.\n",
      "23 higher.\n",
      "13 higher.\n",
      "29 higher.\n",
      "10 higher.\n",
      "87 lower.\n",
      "49 higher.\n",
      "15 higher.\n",
      "27 higher.\n",
      "38 higher.\n",
      "4 higher.\n",
      "46 higher.\n",
      "74 lower.\n",
      "92 lower.\n",
      "6 higher.\n",
      "72 lower.\n",
      "9 higher.\n",
      "71 lower.\n",
      "51 higher.\n",
      "96 lower.\n",
      "48 higher.\n",
      "32 higher.\n",
      "30 higher.\n",
      "11 higher.\n",
      "17 higher.\n",
      "15 higher.\n",
      "89 lower.\n",
      "34 higher.\n",
      "55 higher.\n",
      "81 lower.\n",
      "47 higher.\n",
      "92 lower.\n",
      "4 higher.\n",
      "97 lower.\n",
      "71 lower.\n",
      "26 higher.\n",
      "34 higher.\n",
      "91 lower.\n",
      "22 higher.\n",
      "51 higher.\n",
      "39 higher.\n",
      "Your number is 69\n",
      "This is Odd number...and divisible by 3 \n"
     ]
    }
   ],
   "source": [
    "##Advanced 3. \n",
    "##Now improve your code by limiting the guesses and let the function to guide you after the\n",
    "##second guess that as long as the reply is not way up/low. The function can tell you the\n",
    "##number is even/odd and/or divisible by 3. Try to compare two functions over one chosen\n",
    "##number and count the guesses,\n",
    "import random\n",
    "\n",
    "     #User chooses the number\n",
    "the_number = int(input(\"Human Choose a number between 0 and 100 \"))\n",
    "tries = 1\n",
    "computer = random.randint(0,100)\n",
    "     # User choose again loop\n",
    "while the_number > 100:\n",
    "    the_number = int(input(\"Type Number between 1 and 100 \"))\n",
    "if the_number <= 100:\n",
    "    print(\"Good\")\n",
    "\n",
    "     # Guessing Loop\n",
    "while computer != the_number:\n",
    "    if computer > the_number:\n",
    "        print(computer, \"lower.\")\n",
    "    else:\n",
    "        print(computer, \"higher.\")\n",
    "    computer = int(random.randint(0,100))\n",
    "    tries += 1\n",
    "print (\"Your number is\",computer)\t\t\n",
    "def evenOdd3(x):\n",
    "    if computer%2==0:\n",
    "        print (\"This is Even number...\")\n",
    "    elif computer%2!=0 & computer%3!=0:\n",
    "        print (\"This is Odd number...But not divisible by 3 \")\n",
    "    elif computer%2!=0 & computer%3==0:\n",
    "        print (\"This is Odd number...and divisible by 3 \")\n",
    "evenOdd3(computer)"
   ]
  },
  {
   "cell_type": "code",
   "execution_count": 19,
   "metadata": {},
   "outputs": [
    {
     "name": "stdout",
     "output_type": "stream",
     "text": [
      "Human Choose a number between 0 and 100 29\n",
      "Good\n",
      "1 higher.... Go low \n",
      "50 lower....Go up \n",
      "10 higher.... Go low \n",
      "45 lower....Go up \n",
      "78 lower....Go up \n",
      "11 higher.... Go low \n",
      "77 lower....Go up \n",
      "63 lower....Go up \n",
      "99 lower....Go up \n",
      "89 lower....Go up \n",
      "This is Odd number...and divisible by 3 \n",
      "Your number is 29\n",
      "Computer Congratulations... You beat the human! The Number was  29\n",
      "It only took a computer such as yourself 11 tries to guess it right...          pathetic\n",
      "\n",
      "Press the enter key to exit.\n"
     ]
    },
    {
     "data": {
      "text/plain": [
       "''"
      ]
     },
     "execution_count": 19,
     "metadata": {},
     "output_type": "execute_result"
    }
   ],
   "source": [
    "##Advanced 4. \n",
    "##Again do reverse and make the communication more interesting.\n",
    "\n",
    "import random\n",
    "\n",
    "     #User chooses the number\n",
    "the_number = int(input(\"Human Choose a number between 0 and 100 \"))\n",
    "tries = 1\n",
    "computer = random.randint(0,100)\n",
    "     # User choose again loop\n",
    "while the_number > 100:\n",
    "    the_number = int(input(\"Type Number between 1 and 100 \"))\n",
    "if the_number <= 100:\n",
    "    print(\"Good\")\n",
    "\n",
    "     # Guessing Loop\n",
    "while computer != the_number:\n",
    "    if computer > the_number:\n",
    "        print(computer, \"lower....Go up \")\n",
    "    else:\n",
    "        print(computer, \"higher.... Go low \")\n",
    "    computer = int(random.randint(0,100))\n",
    "    tries += 1\n",
    "\t\n",
    "def evenOdd3(x):\n",
    "    if computer%2==0:\n",
    "        print (\"This is Even number...\")\n",
    "    elif computer%2!=0 & computer%3!=0:\n",
    "        print (\"This is Odd number...But not divisible by 3 \")\n",
    "    elif computer%2!=0 & computer%3==0:\n",
    "        print (\"This is Odd number...and divisible by 3 \")\n",
    "evenOdd3(computer)\t\n",
    "\n",
    "print (\"Your number is\",computer)\n",
    "print(\"Computer Congratulations... You beat the human! The Number was \", computer)\n",
    "print(\"It only took a computer such as yourself\", tries, \"tries to guess it right...          pathetic\")\n",
    "input(\"\\nPress the enter key to exit.\")"
   ]
  },
  {
   "cell_type": "code",
   "execution_count": null,
   "metadata": {},
   "outputs": [],
   "source": []
  }
 ],
 "metadata": {
  "kernelspec": {
   "display_name": "Python 3",
   "language": "python",
   "name": "python3"
  },
  "language_info": {
   "codemirror_mode": {
    "name": "ipython",
    "version": 3
   },
   "file_extension": ".py",
   "mimetype": "text/x-python",
   "name": "python",
   "nbconvert_exporter": "python",
   "pygments_lexer": "ipython3",
   "version": "3.7.4"
  }
 },
 "nbformat": 4,
 "nbformat_minor": 2
}
